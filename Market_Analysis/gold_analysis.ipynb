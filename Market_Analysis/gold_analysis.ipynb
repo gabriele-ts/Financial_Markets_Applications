{
 "cells": [
  {
   "cell_type": "markdown",
   "metadata": {},
   "source": [
    "# Gold analysis"
   ]
  },
  {
   "cell_type": "markdown",
   "metadata": {},
   "source": [
    "Analisi del comportamento dell'oro durante periodi di recessione USA e giornate di crollo della borsa"
   ]
  },
  {
   "cell_type": "markdown",
   "metadata": {},
   "source": [
    "## a) Apertura e preparazione dataframe oro"
   ]
  },
  {
   "cell_type": "code",
   "execution_count": 329,
   "metadata": {},
   "outputs": [],
   "source": [
    "import pandas as pd\n",
    "import numpy as np"
   ]
  },
  {
   "cell_type": "code",
   "execution_count": 330,
   "metadata": {},
   "outputs": [],
   "source": [
    "gold = pd.read_csv(\"gold.csv\")"
   ]
  },
  {
   "cell_type": "code",
   "execution_count": 331,
   "metadata": {},
   "outputs": [
    {
     "data": {
      "text/html": [
       "<div>\n",
       "<style scoped>\n",
       "    .dataframe tbody tr th:only-of-type {\n",
       "        vertical-align: middle;\n",
       "    }\n",
       "\n",
       "    .dataframe tbody tr th {\n",
       "        vertical-align: top;\n",
       "    }\n",
       "\n",
       "    .dataframe thead th {\n",
       "        text-align: right;\n",
       "    }\n",
       "</style>\n",
       "<table border=\"1\" class=\"dataframe\">\n",
       "  <thead>\n",
       "    <tr style=\"text-align: right;\">\n",
       "      <th></th>\n",
       "      <th>Date</th>\n",
       "      <th>Open</th>\n",
       "      <th>High</th>\n",
       "      <th>Low</th>\n",
       "      <th>Last</th>\n",
       "      <th>Change</th>\n",
       "      <th>Settle</th>\n",
       "      <th>Volume</th>\n",
       "      <th>Previous Day Open Interest</th>\n",
       "    </tr>\n",
       "  </thead>\n",
       "  <tbody>\n",
       "    <tr>\n",
       "      <th>0</th>\n",
       "      <td>2019-09-13</td>\n",
       "      <td>1499.8</td>\n",
       "      <td>1509.8</td>\n",
       "      <td>1486.7</td>\n",
       "      <td>1489.8</td>\n",
       "      <td>7.9</td>\n",
       "      <td>1492.9</td>\n",
       "      <td>5580.0</td>\n",
       "      <td>39286.0</td>\n",
       "    </tr>\n",
       "    <tr>\n",
       "      <th>1</th>\n",
       "      <td>2019-09-12</td>\n",
       "      <td>1499.1</td>\n",
       "      <td>1525.4</td>\n",
       "      <td>1490.5</td>\n",
       "      <td>1500.2</td>\n",
       "      <td>4.2</td>\n",
       "      <td>1500.8</td>\n",
       "      <td>6531.0</td>\n",
       "      <td>39225.0</td>\n",
       "    </tr>\n",
       "    <tr>\n",
       "      <th>2</th>\n",
       "      <td>2019-09-11</td>\n",
       "      <td>1486.8</td>\n",
       "      <td>1499.6</td>\n",
       "      <td>1486.8</td>\n",
       "      <td>1498.3</td>\n",
       "      <td>3.9</td>\n",
       "      <td>1496.6</td>\n",
       "      <td>3355.0</td>\n",
       "      <td>40353.0</td>\n",
       "    </tr>\n",
       "    <tr>\n",
       "      <th>3</th>\n",
       "      <td>2019-09-10</td>\n",
       "      <td>1500.2</td>\n",
       "      <td>1502.5</td>\n",
       "      <td>1485.7</td>\n",
       "      <td>1487.0</td>\n",
       "      <td>11.8</td>\n",
       "      <td>1492.7</td>\n",
       "      <td>6153.0</td>\n",
       "      <td>41698.0</td>\n",
       "    </tr>\n",
       "    <tr>\n",
       "      <th>4</th>\n",
       "      <td>2019-09-09</td>\n",
       "      <td>1509.2</td>\n",
       "      <td>1517.1</td>\n",
       "      <td>1499.1</td>\n",
       "      <td>1500.3</td>\n",
       "      <td>4.5</td>\n",
       "      <td>1504.5</td>\n",
       "      <td>6902.0</td>\n",
       "      <td>41879.0</td>\n",
       "    </tr>\n",
       "  </tbody>\n",
       "</table>\n",
       "</div>"
      ],
      "text/plain": [
       "         Date    Open    High     Low    Last  Change  Settle  Volume  \\\n",
       "0  2019-09-13  1499.8  1509.8  1486.7  1489.8     7.9  1492.9  5580.0   \n",
       "1  2019-09-12  1499.1  1525.4  1490.5  1500.2     4.2  1500.8  6531.0   \n",
       "2  2019-09-11  1486.8  1499.6  1486.8  1498.3     3.9  1496.6  3355.0   \n",
       "3  2019-09-10  1500.2  1502.5  1485.7  1487.0    11.8  1492.7  6153.0   \n",
       "4  2019-09-09  1509.2  1517.1  1499.1  1500.3     4.5  1504.5  6902.0   \n",
       "\n",
       "   Previous Day Open Interest  \n",
       "0                     39286.0  \n",
       "1                     39225.0  \n",
       "2                     40353.0  \n",
       "3                     41698.0  \n",
       "4                     41879.0  "
      ]
     },
     "execution_count": 331,
     "metadata": {},
     "output_type": "execute_result"
    }
   ],
   "source": [
    "gold.head()"
   ]
  },
  {
   "cell_type": "code",
   "execution_count": 332,
   "metadata": {},
   "outputs": [],
   "source": [
    "import datetime as datetime\n",
    "gold['Date'] = pd.to_datetime(gold['Date'])"
   ]
  },
  {
   "cell_type": "code",
   "execution_count": 333,
   "metadata": {},
   "outputs": [],
   "source": [
    "gold.set_index(\"Date\", inplace=True)"
   ]
  },
  {
   "cell_type": "code",
   "execution_count": 334,
   "metadata": {},
   "outputs": [
    {
     "data": {
      "text/html": [
       "<div>\n",
       "<style scoped>\n",
       "    .dataframe tbody tr th:only-of-type {\n",
       "        vertical-align: middle;\n",
       "    }\n",
       "\n",
       "    .dataframe tbody tr th {\n",
       "        vertical-align: top;\n",
       "    }\n",
       "\n",
       "    .dataframe thead th {\n",
       "        text-align: right;\n",
       "    }\n",
       "</style>\n",
       "<table border=\"1\" class=\"dataframe\">\n",
       "  <thead>\n",
       "    <tr style=\"text-align: right;\">\n",
       "      <th></th>\n",
       "      <th>Open</th>\n",
       "      <th>High</th>\n",
       "      <th>Low</th>\n",
       "      <th>Last</th>\n",
       "      <th>Change</th>\n",
       "      <th>Settle</th>\n",
       "      <th>Volume</th>\n",
       "      <th>Previous Day Open Interest</th>\n",
       "    </tr>\n",
       "    <tr>\n",
       "      <th>Date</th>\n",
       "      <th></th>\n",
       "      <th></th>\n",
       "      <th></th>\n",
       "      <th></th>\n",
       "      <th></th>\n",
       "      <th></th>\n",
       "      <th></th>\n",
       "      <th></th>\n",
       "    </tr>\n",
       "  </thead>\n",
       "  <tbody>\n",
       "    <tr>\n",
       "      <th>2019-09-13</th>\n",
       "      <td>1499.8</td>\n",
       "      <td>1509.8</td>\n",
       "      <td>1486.7</td>\n",
       "      <td>1489.8</td>\n",
       "      <td>7.9</td>\n",
       "      <td>1492.9</td>\n",
       "      <td>5580.0</td>\n",
       "      <td>39286.0</td>\n",
       "    </tr>\n",
       "    <tr>\n",
       "      <th>2019-09-12</th>\n",
       "      <td>1499.1</td>\n",
       "      <td>1525.4</td>\n",
       "      <td>1490.5</td>\n",
       "      <td>1500.2</td>\n",
       "      <td>4.2</td>\n",
       "      <td>1500.8</td>\n",
       "      <td>6531.0</td>\n",
       "      <td>39225.0</td>\n",
       "    </tr>\n",
       "    <tr>\n",
       "      <th>2019-09-11</th>\n",
       "      <td>1486.8</td>\n",
       "      <td>1499.6</td>\n",
       "      <td>1486.8</td>\n",
       "      <td>1498.3</td>\n",
       "      <td>3.9</td>\n",
       "      <td>1496.6</td>\n",
       "      <td>3355.0</td>\n",
       "      <td>40353.0</td>\n",
       "    </tr>\n",
       "    <tr>\n",
       "      <th>2019-09-10</th>\n",
       "      <td>1500.2</td>\n",
       "      <td>1502.5</td>\n",
       "      <td>1485.7</td>\n",
       "      <td>1487.0</td>\n",
       "      <td>11.8</td>\n",
       "      <td>1492.7</td>\n",
       "      <td>6153.0</td>\n",
       "      <td>41698.0</td>\n",
       "    </tr>\n",
       "    <tr>\n",
       "      <th>2019-09-09</th>\n",
       "      <td>1509.2</td>\n",
       "      <td>1517.1</td>\n",
       "      <td>1499.1</td>\n",
       "      <td>1500.3</td>\n",
       "      <td>4.5</td>\n",
       "      <td>1504.5</td>\n",
       "      <td>6902.0</td>\n",
       "      <td>41879.0</td>\n",
       "    </tr>\n",
       "  </tbody>\n",
       "</table>\n",
       "</div>"
      ],
      "text/plain": [
       "              Open    High     Low    Last  Change  Settle  Volume  \\\n",
       "Date                                                                 \n",
       "2019-09-13  1499.8  1509.8  1486.7  1489.8     7.9  1492.9  5580.0   \n",
       "2019-09-12  1499.1  1525.4  1490.5  1500.2     4.2  1500.8  6531.0   \n",
       "2019-09-11  1486.8  1499.6  1486.8  1498.3     3.9  1496.6  3355.0   \n",
       "2019-09-10  1500.2  1502.5  1485.7  1487.0    11.8  1492.7  6153.0   \n",
       "2019-09-09  1509.2  1517.1  1499.1  1500.3     4.5  1504.5  6902.0   \n",
       "\n",
       "            Previous Day Open Interest  \n",
       "Date                                    \n",
       "2019-09-13                     39286.0  \n",
       "2019-09-12                     39225.0  \n",
       "2019-09-11                     40353.0  \n",
       "2019-09-10                     41698.0  \n",
       "2019-09-09                     41879.0  "
      ]
     },
     "execution_count": 334,
     "metadata": {},
     "output_type": "execute_result"
    }
   ],
   "source": [
    "gold.head()"
   ]
  },
  {
   "cell_type": "code",
   "execution_count": 335,
   "metadata": {},
   "outputs": [
    {
     "data": {
      "text/html": [
       "<div>\n",
       "<style scoped>\n",
       "    .dataframe tbody tr th:only-of-type {\n",
       "        vertical-align: middle;\n",
       "    }\n",
       "\n",
       "    .dataframe tbody tr th {\n",
       "        vertical-align: top;\n",
       "    }\n",
       "\n",
       "    .dataframe thead th {\n",
       "        text-align: right;\n",
       "    }\n",
       "</style>\n",
       "<table border=\"1\" class=\"dataframe\">\n",
       "  <thead>\n",
       "    <tr style=\"text-align: right;\">\n",
       "      <th></th>\n",
       "      <th>Open</th>\n",
       "      <th>High</th>\n",
       "      <th>Low</th>\n",
       "      <th>Last</th>\n",
       "      <th>Change</th>\n",
       "      <th>Settle</th>\n",
       "      <th>Volume</th>\n",
       "      <th>Previous Day Open Interest</th>\n",
       "    </tr>\n",
       "  </thead>\n",
       "  <tbody>\n",
       "    <tr>\n",
       "      <th>False</th>\n",
       "      <td>11190</td>\n",
       "      <td>11192</td>\n",
       "      <td>11194</td>\n",
       "      <td>11195</td>\n",
       "      <td>1397</td>\n",
       "      <td>11224.0</td>\n",
       "      <td>11224.0</td>\n",
       "      <td>11224.0</td>\n",
       "    </tr>\n",
       "    <tr>\n",
       "      <th>True</th>\n",
       "      <td>34</td>\n",
       "      <td>32</td>\n",
       "      <td>30</td>\n",
       "      <td>29</td>\n",
       "      <td>9827</td>\n",
       "      <td>NaN</td>\n",
       "      <td>NaN</td>\n",
       "      <td>NaN</td>\n",
       "    </tr>\n",
       "  </tbody>\n",
       "</table>\n",
       "</div>"
      ],
      "text/plain": [
       "        Open   High    Low   Last  Change   Settle   Volume  \\\n",
       "False  11190  11192  11194  11195    1397  11224.0  11224.0   \n",
       "True      34     32     30     29    9827      NaN      NaN   \n",
       "\n",
       "       Previous Day Open Interest  \n",
       "False                     11224.0  \n",
       "True                          NaN  "
      ]
     },
     "execution_count": 335,
     "metadata": {},
     "output_type": "execute_result"
    }
   ],
   "source": [
    "gold.isnull().apply(pd.value_counts)"
   ]
  },
  {
   "cell_type": "markdown",
   "metadata": {},
   "source": [
    "Poichè siamo solo interessati solo alle colonne 'Settle', 'Volume' e 'Previous Day Open Interest', eliminiamo le altre colonne che inoltre presentano valori nulli"
   ]
  },
  {
   "cell_type": "code",
   "execution_count": 336,
   "metadata": {},
   "outputs": [],
   "source": [
    "cols_to_drop = [\"Open\", \"High\", \"Low\", \"Last\",\"Change\"]\n",
    "gold.drop(cols_to_drop, axis=1, inplace=True)"
   ]
  },
  {
   "cell_type": "code",
   "execution_count": 337,
   "metadata": {},
   "outputs": [
    {
     "data": {
      "text/html": [
       "<div>\n",
       "<style scoped>\n",
       "    .dataframe tbody tr th:only-of-type {\n",
       "        vertical-align: middle;\n",
       "    }\n",
       "\n",
       "    .dataframe tbody tr th {\n",
       "        vertical-align: top;\n",
       "    }\n",
       "\n",
       "    .dataframe thead th {\n",
       "        text-align: right;\n",
       "    }\n",
       "</style>\n",
       "<table border=\"1\" class=\"dataframe\">\n",
       "  <thead>\n",
       "    <tr style=\"text-align: right;\">\n",
       "      <th></th>\n",
       "      <th>Settle</th>\n",
       "      <th>Volume</th>\n",
       "      <th>Previous Day Open Interest</th>\n",
       "    </tr>\n",
       "    <tr>\n",
       "      <th>Date</th>\n",
       "      <th></th>\n",
       "      <th></th>\n",
       "      <th></th>\n",
       "    </tr>\n",
       "  </thead>\n",
       "  <tbody>\n",
       "    <tr>\n",
       "      <th>2019-09-13</th>\n",
       "      <td>1492.9</td>\n",
       "      <td>5580.0</td>\n",
       "      <td>39286.0</td>\n",
       "    </tr>\n",
       "    <tr>\n",
       "      <th>2019-09-12</th>\n",
       "      <td>1500.8</td>\n",
       "      <td>6531.0</td>\n",
       "      <td>39225.0</td>\n",
       "    </tr>\n",
       "    <tr>\n",
       "      <th>2019-09-11</th>\n",
       "      <td>1496.6</td>\n",
       "      <td>3355.0</td>\n",
       "      <td>40353.0</td>\n",
       "    </tr>\n",
       "    <tr>\n",
       "      <th>2019-09-10</th>\n",
       "      <td>1492.7</td>\n",
       "      <td>6153.0</td>\n",
       "      <td>41698.0</td>\n",
       "    </tr>\n",
       "    <tr>\n",
       "      <th>2019-09-09</th>\n",
       "      <td>1504.5</td>\n",
       "      <td>6902.0</td>\n",
       "      <td>41879.0</td>\n",
       "    </tr>\n",
       "  </tbody>\n",
       "</table>\n",
       "</div>"
      ],
      "text/plain": [
       "            Settle  Volume  Previous Day Open Interest\n",
       "Date                                                  \n",
       "2019-09-13  1492.9  5580.0                     39286.0\n",
       "2019-09-12  1500.8  6531.0                     39225.0\n",
       "2019-09-11  1496.6  3355.0                     40353.0\n",
       "2019-09-10  1492.7  6153.0                     41698.0\n",
       "2019-09-09  1504.5  6902.0                     41879.0"
      ]
     },
     "execution_count": 337,
     "metadata": {},
     "output_type": "execute_result"
    }
   ],
   "source": [
    "gold.head()"
   ]
  },
  {
   "cell_type": "code",
   "execution_count": 338,
   "metadata": {},
   "outputs": [],
   "source": [
    "gold.sort_values('Date', inplace=True)"
   ]
  },
  {
   "cell_type": "markdown",
   "metadata": {},
   "source": [
    "Creo una colonna con variazione % giornaliera del prezzo"
   ]
  },
  {
   "cell_type": "code",
   "execution_count": 339,
   "metadata": {},
   "outputs": [],
   "source": [
    "gold[\"Change\"] = np.log(gold[\"Settle\"]/gold[\"Settle\"].shift(1))"
   ]
  },
  {
   "cell_type": "code",
   "execution_count": 340,
   "metadata": {},
   "outputs": [
    {
     "data": {
      "text/html": [
       "<div>\n",
       "<style scoped>\n",
       "    .dataframe tbody tr th:only-of-type {\n",
       "        vertical-align: middle;\n",
       "    }\n",
       "\n",
       "    .dataframe tbody tr th {\n",
       "        vertical-align: top;\n",
       "    }\n",
       "\n",
       "    .dataframe thead th {\n",
       "        text-align: right;\n",
       "    }\n",
       "</style>\n",
       "<table border=\"1\" class=\"dataframe\">\n",
       "  <thead>\n",
       "    <tr style=\"text-align: right;\">\n",
       "      <th></th>\n",
       "      <th>Settle</th>\n",
       "      <th>Volume</th>\n",
       "      <th>Previous Day Open Interest</th>\n",
       "      <th>Change</th>\n",
       "    </tr>\n",
       "    <tr>\n",
       "      <th>Date</th>\n",
       "      <th></th>\n",
       "      <th></th>\n",
       "      <th></th>\n",
       "      <th></th>\n",
       "    </tr>\n",
       "  </thead>\n",
       "  <tbody>\n",
       "    <tr>\n",
       "      <th>1974-12-31</th>\n",
       "      <td>183.9</td>\n",
       "      <td>512.0</td>\n",
       "      <td>237.0</td>\n",
       "      <td>NaN</td>\n",
       "    </tr>\n",
       "    <tr>\n",
       "      <th>1975-01-02</th>\n",
       "      <td>175.1</td>\n",
       "      <td>294.0</td>\n",
       "      <td>209.0</td>\n",
       "      <td>-0.049035</td>\n",
       "    </tr>\n",
       "    <tr>\n",
       "      <th>1975-01-03</th>\n",
       "      <td>174.7</td>\n",
       "      <td>174.0</td>\n",
       "      <td>216.0</td>\n",
       "      <td>-0.002287</td>\n",
       "    </tr>\n",
       "    <tr>\n",
       "      <th>1975-01-06</th>\n",
       "      <td>174.4</td>\n",
       "      <td>197.0</td>\n",
       "      <td>225.0</td>\n",
       "      <td>-0.001719</td>\n",
       "    </tr>\n",
       "    <tr>\n",
       "      <th>1975-01-07</th>\n",
       "      <td>173.4</td>\n",
       "      <td>98.0</td>\n",
       "      <td>240.0</td>\n",
       "      <td>-0.005750</td>\n",
       "    </tr>\n",
       "  </tbody>\n",
       "</table>\n",
       "</div>"
      ],
      "text/plain": [
       "            Settle  Volume  Previous Day Open Interest    Change\n",
       "Date                                                            \n",
       "1974-12-31   183.9   512.0                       237.0       NaN\n",
       "1975-01-02   175.1   294.0                       209.0 -0.049035\n",
       "1975-01-03   174.7   174.0                       216.0 -0.002287\n",
       "1975-01-06   174.4   197.0                       225.0 -0.001719\n",
       "1975-01-07   173.4    98.0                       240.0 -0.005750"
      ]
     },
     "execution_count": 340,
     "metadata": {},
     "output_type": "execute_result"
    }
   ],
   "source": [
    "gold.head()"
   ]
  },
  {
   "cell_type": "markdown",
   "metadata": {},
   "source": [
    "## Verifica e pulizia dati"
   ]
  },
  {
   "cell_type": "markdown",
   "metadata": {},
   "source": [
    "Al fine di pulire i dati dividiamo il dataframe per anni per applicare la funzione che individua outliers"
   ]
  },
  {
   "cell_type": "code",
   "execution_count": 341,
   "metadata": {},
   "outputs": [],
   "source": [
    "years = []\n",
    "\n",
    "for x in range(0,45):\n",
    "    year = 1975 + x\n",
    "    years.append(year)"
   ]
  },
  {
   "cell_type": "code",
   "execution_count": 342,
   "metadata": {},
   "outputs": [
    {
     "data": {
      "text/plain": [
       "[1975,\n",
       " 1976,\n",
       " 1977,\n",
       " 1978,\n",
       " 1979,\n",
       " 1980,\n",
       " 1981,\n",
       " 1982,\n",
       " 1983,\n",
       " 1984,\n",
       " 1985,\n",
       " 1986,\n",
       " 1987,\n",
       " 1988,\n",
       " 1989,\n",
       " 1990,\n",
       " 1991,\n",
       " 1992,\n",
       " 1993,\n",
       " 1994,\n",
       " 1995,\n",
       " 1996,\n",
       " 1997,\n",
       " 1998,\n",
       " 1999,\n",
       " 2000,\n",
       " 2001,\n",
       " 2002,\n",
       " 2003,\n",
       " 2004,\n",
       " 2005,\n",
       " 2006,\n",
       " 2007,\n",
       " 2008,\n",
       " 2009,\n",
       " 2010,\n",
       " 2011,\n",
       " 2012,\n",
       " 2013,\n",
       " 2014,\n",
       " 2015,\n",
       " 2016,\n",
       " 2017,\n",
       " 2018,\n",
       " 2019]"
      ]
     },
     "execution_count": 342,
     "metadata": {},
     "output_type": "execute_result"
    }
   ],
   "source": [
    "years"
   ]
  },
  {
   "cell_type": "code",
   "execution_count": 343,
   "metadata": {},
   "outputs": [],
   "source": [
    "for year in years:\n",
    "    globals()['y_%s' % year] = gold[gold.index.year == year]"
   ]
  },
  {
   "cell_type": "code",
   "execution_count": 347,
   "metadata": {},
   "outputs": [
    {
     "data": {
      "text/html": [
       "<div>\n",
       "<style scoped>\n",
       "    .dataframe tbody tr th:only-of-type {\n",
       "        vertical-align: middle;\n",
       "    }\n",
       "\n",
       "    .dataframe tbody tr th {\n",
       "        vertical-align: top;\n",
       "    }\n",
       "\n",
       "    .dataframe thead th {\n",
       "        text-align: right;\n",
       "    }\n",
       "</style>\n",
       "<table border=\"1\" class=\"dataframe\">\n",
       "  <thead>\n",
       "    <tr style=\"text-align: right;\">\n",
       "      <th></th>\n",
       "      <th>Settle</th>\n",
       "      <th>Volume</th>\n",
       "      <th>Previous Day Open Interest</th>\n",
       "      <th>Change</th>\n",
       "    </tr>\n",
       "    <tr>\n",
       "      <th>Date</th>\n",
       "      <th></th>\n",
       "      <th></th>\n",
       "      <th></th>\n",
       "      <th></th>\n",
       "    </tr>\n",
       "  </thead>\n",
       "  <tbody>\n",
       "    <tr>\n",
       "      <th>1975-01-02</th>\n",
       "      <td>175.1</td>\n",
       "      <td>294.0</td>\n",
       "      <td>209.0</td>\n",
       "      <td>-0.049035</td>\n",
       "    </tr>\n",
       "    <tr>\n",
       "      <th>1975-01-03</th>\n",
       "      <td>174.7</td>\n",
       "      <td>174.0</td>\n",
       "      <td>216.0</td>\n",
       "      <td>-0.002287</td>\n",
       "    </tr>\n",
       "    <tr>\n",
       "      <th>1975-01-06</th>\n",
       "      <td>174.4</td>\n",
       "      <td>197.0</td>\n",
       "      <td>225.0</td>\n",
       "      <td>-0.001719</td>\n",
       "    </tr>\n",
       "    <tr>\n",
       "      <th>1975-01-07</th>\n",
       "      <td>173.4</td>\n",
       "      <td>98.0</td>\n",
       "      <td>240.0</td>\n",
       "      <td>-0.005750</td>\n",
       "    </tr>\n",
       "    <tr>\n",
       "      <th>1975-01-08</th>\n",
       "      <td>177.4</td>\n",
       "      <td>69.0</td>\n",
       "      <td>224.0</td>\n",
       "      <td>0.022806</td>\n",
       "    </tr>\n",
       "    <tr>\n",
       "      <th>1975-01-09</th>\n",
       "      <td>178.3</td>\n",
       "      <td>25.0</td>\n",
       "      <td>246.0</td>\n",
       "      <td>0.005060</td>\n",
       "    </tr>\n",
       "    <tr>\n",
       "      <th>1975-01-10</th>\n",
       "      <td>181.3</td>\n",
       "      <td>24.0</td>\n",
       "      <td>260.0</td>\n",
       "      <td>0.016686</td>\n",
       "    </tr>\n",
       "    <tr>\n",
       "      <th>1975-01-13</th>\n",
       "      <td>178.6</td>\n",
       "      <td>31.0</td>\n",
       "      <td>258.0</td>\n",
       "      <td>-0.015004</td>\n",
       "    </tr>\n",
       "    <tr>\n",
       "      <th>1975-01-14</th>\n",
       "      <td>178.6</td>\n",
       "      <td>7.0</td>\n",
       "      <td>255.0</td>\n",
       "      <td>0.000000</td>\n",
       "    </tr>\n",
       "    <tr>\n",
       "      <th>1975-01-15</th>\n",
       "      <td>177.3</td>\n",
       "      <td>29.0</td>\n",
       "      <td>275.0</td>\n",
       "      <td>-0.007305</td>\n",
       "    </tr>\n",
       "    <tr>\n",
       "      <th>1975-01-16</th>\n",
       "      <td>175.1</td>\n",
       "      <td>40.0</td>\n",
       "      <td>266.0</td>\n",
       "      <td>-0.012486</td>\n",
       "    </tr>\n",
       "    <tr>\n",
       "      <th>1975-01-17</th>\n",
       "      <td>172.1</td>\n",
       "      <td>18.0</td>\n",
       "      <td>296.0</td>\n",
       "      <td>-0.017282</td>\n",
       "    </tr>\n",
       "    <tr>\n",
       "      <th>1975-01-20</th>\n",
       "      <td>176.2</td>\n",
       "      <td>18.0</td>\n",
       "      <td>268.0</td>\n",
       "      <td>0.023544</td>\n",
       "    </tr>\n",
       "    <tr>\n",
       "      <th>1975-01-21</th>\n",
       "      <td>173.7</td>\n",
       "      <td>0.0</td>\n",
       "      <td>277.0</td>\n",
       "      <td>-0.014290</td>\n",
       "    </tr>\n",
       "    <tr>\n",
       "      <th>1975-01-22</th>\n",
       "      <td>174.3</td>\n",
       "      <td>38.0</td>\n",
       "      <td>285.0</td>\n",
       "      <td>0.003448</td>\n",
       "    </tr>\n",
       "    <tr>\n",
       "      <th>1975-01-23</th>\n",
       "      <td>176.4</td>\n",
       "      <td>40.0</td>\n",
       "      <td>290.0</td>\n",
       "      <td>0.011976</td>\n",
       "    </tr>\n",
       "    <tr>\n",
       "      <th>1975-01-24</th>\n",
       "      <td>179.5</td>\n",
       "      <td>55.0</td>\n",
       "      <td>325.0</td>\n",
       "      <td>0.017421</td>\n",
       "    </tr>\n",
       "    <tr>\n",
       "      <th>1975-01-27</th>\n",
       "      <td>176.8</td>\n",
       "      <td>30.0</td>\n",
       "      <td>320.0</td>\n",
       "      <td>-0.015156</td>\n",
       "    </tr>\n",
       "    <tr>\n",
       "      <th>1975-01-28</th>\n",
       "      <td>176.0</td>\n",
       "      <td>93.0</td>\n",
       "      <td>340.0</td>\n",
       "      <td>-0.004535</td>\n",
       "    </tr>\n",
       "    <tr>\n",
       "      <th>1975-01-29</th>\n",
       "      <td>179.1</td>\n",
       "      <td>12.0</td>\n",
       "      <td>336.0</td>\n",
       "      <td>0.017460</td>\n",
       "    </tr>\n",
       "    <tr>\n",
       "      <th>1975-01-30</th>\n",
       "      <td>175.8</td>\n",
       "      <td>8.0</td>\n",
       "      <td>336.0</td>\n",
       "      <td>-0.018597</td>\n",
       "    </tr>\n",
       "    <tr>\n",
       "      <th>1975-01-31</th>\n",
       "      <td>175.5</td>\n",
       "      <td>33.0</td>\n",
       "      <td>338.0</td>\n",
       "      <td>-0.001708</td>\n",
       "    </tr>\n",
       "    <tr>\n",
       "      <th>1975-02-03</th>\n",
       "      <td>175.8</td>\n",
       "      <td>25.0</td>\n",
       "      <td>336.0</td>\n",
       "      <td>0.001708</td>\n",
       "    </tr>\n",
       "    <tr>\n",
       "      <th>1975-02-04</th>\n",
       "      <td>174.8</td>\n",
       "      <td>10.0</td>\n",
       "      <td>331.0</td>\n",
       "      <td>-0.005705</td>\n",
       "    </tr>\n",
       "    <tr>\n",
       "      <th>1975-02-05</th>\n",
       "      <td>174.2</td>\n",
       "      <td>5.0</td>\n",
       "      <td>331.0</td>\n",
       "      <td>-0.003438</td>\n",
       "    </tr>\n",
       "    <tr>\n",
       "      <th>1975-02-06</th>\n",
       "      <td>173.8</td>\n",
       "      <td>20.0</td>\n",
       "      <td>157.0</td>\n",
       "      <td>-0.002299</td>\n",
       "    </tr>\n",
       "    <tr>\n",
       "      <th>1975-02-07</th>\n",
       "      <td>175.1</td>\n",
       "      <td>2.0</td>\n",
       "      <td>154.0</td>\n",
       "      <td>0.007452</td>\n",
       "    </tr>\n",
       "    <tr>\n",
       "      <th>1975-02-10</th>\n",
       "      <td>173.7</td>\n",
       "      <td>3.0</td>\n",
       "      <td>80.0</td>\n",
       "      <td>-0.008028</td>\n",
       "    </tr>\n",
       "    <tr>\n",
       "      <th>1975-02-11</th>\n",
       "      <td>174.8</td>\n",
       "      <td>0.0</td>\n",
       "      <td>77.0</td>\n",
       "      <td>0.006313</td>\n",
       "    </tr>\n",
       "    <tr>\n",
       "      <th>1975-02-13</th>\n",
       "      <td>183.5</td>\n",
       "      <td>52.0</td>\n",
       "      <td>103.0</td>\n",
       "      <td>0.048572</td>\n",
       "    </tr>\n",
       "    <tr>\n",
       "      <th>...</th>\n",
       "      <td>...</td>\n",
       "      <td>...</td>\n",
       "      <td>...</td>\n",
       "      <td>...</td>\n",
       "    </tr>\n",
       "    <tr>\n",
       "      <th>1975-11-17</th>\n",
       "      <td>139.3</td>\n",
       "      <td>1101.0</td>\n",
       "      <td>2721.0</td>\n",
       "      <td>-0.016376</td>\n",
       "    </tr>\n",
       "    <tr>\n",
       "      <th>1975-11-18</th>\n",
       "      <td>140.3</td>\n",
       "      <td>1303.0</td>\n",
       "      <td>2446.0</td>\n",
       "      <td>0.007153</td>\n",
       "    </tr>\n",
       "    <tr>\n",
       "      <th>1975-11-19</th>\n",
       "      <td>142.9</td>\n",
       "      <td>1140.0</td>\n",
       "      <td>2427.0</td>\n",
       "      <td>0.018362</td>\n",
       "    </tr>\n",
       "    <tr>\n",
       "      <th>1975-11-20</th>\n",
       "      <td>141.8</td>\n",
       "      <td>581.0</td>\n",
       "      <td>2260.0</td>\n",
       "      <td>-0.007727</td>\n",
       "    </tr>\n",
       "    <tr>\n",
       "      <th>1975-11-21</th>\n",
       "      <td>141.1</td>\n",
       "      <td>564.0</td>\n",
       "      <td>2090.0</td>\n",
       "      <td>-0.004949</td>\n",
       "    </tr>\n",
       "    <tr>\n",
       "      <th>1975-11-24</th>\n",
       "      <td>141.3</td>\n",
       "      <td>901.0</td>\n",
       "      <td>1838.0</td>\n",
       "      <td>0.001416</td>\n",
       "    </tr>\n",
       "    <tr>\n",
       "      <th>1975-11-25</th>\n",
       "      <td>140.3</td>\n",
       "      <td>850.0</td>\n",
       "      <td>1554.0</td>\n",
       "      <td>-0.007102</td>\n",
       "    </tr>\n",
       "    <tr>\n",
       "      <th>1975-11-26</th>\n",
       "      <td>139.6</td>\n",
       "      <td>587.0</td>\n",
       "      <td>826.0</td>\n",
       "      <td>-0.005002</td>\n",
       "    </tr>\n",
       "    <tr>\n",
       "      <th>1975-11-28</th>\n",
       "      <td>137.3</td>\n",
       "      <td>548.0</td>\n",
       "      <td>740.0</td>\n",
       "      <td>-0.016613</td>\n",
       "    </tr>\n",
       "    <tr>\n",
       "      <th>1975-12-01</th>\n",
       "      <td>137.0</td>\n",
       "      <td>397.0</td>\n",
       "      <td>628.0</td>\n",
       "      <td>-0.002187</td>\n",
       "    </tr>\n",
       "    <tr>\n",
       "      <th>1975-12-02</th>\n",
       "      <td>138.8</td>\n",
       "      <td>274.0</td>\n",
       "      <td>607.0</td>\n",
       "      <td>0.013053</td>\n",
       "    </tr>\n",
       "    <tr>\n",
       "      <th>1975-12-03</th>\n",
       "      <td>138.0</td>\n",
       "      <td>244.0</td>\n",
       "      <td>541.0</td>\n",
       "      <td>-0.005780</td>\n",
       "    </tr>\n",
       "    <tr>\n",
       "      <th>1975-12-04</th>\n",
       "      <td>138.1</td>\n",
       "      <td>196.0</td>\n",
       "      <td>447.0</td>\n",
       "      <td>0.000724</td>\n",
       "    </tr>\n",
       "    <tr>\n",
       "      <th>1975-12-05</th>\n",
       "      <td>137.8</td>\n",
       "      <td>227.0</td>\n",
       "      <td>362.0</td>\n",
       "      <td>-0.002175</td>\n",
       "    </tr>\n",
       "    <tr>\n",
       "      <th>1975-12-08</th>\n",
       "      <td>136.1</td>\n",
       "      <td>145.0</td>\n",
       "      <td>323.0</td>\n",
       "      <td>-0.012413</td>\n",
       "    </tr>\n",
       "    <tr>\n",
       "      <th>1975-12-09</th>\n",
       "      <td>137.6</td>\n",
       "      <td>116.0</td>\n",
       "      <td>336.0</td>\n",
       "      <td>0.010961</td>\n",
       "    </tr>\n",
       "    <tr>\n",
       "      <th>1975-12-10</th>\n",
       "      <td>139.4</td>\n",
       "      <td>70.0</td>\n",
       "      <td>258.0</td>\n",
       "      <td>0.012997</td>\n",
       "    </tr>\n",
       "    <tr>\n",
       "      <th>1975-12-11</th>\n",
       "      <td>139.4</td>\n",
       "      <td>53.0</td>\n",
       "      <td>225.0</td>\n",
       "      <td>0.000000</td>\n",
       "    </tr>\n",
       "    <tr>\n",
       "      <th>1975-12-12</th>\n",
       "      <td>138.4</td>\n",
       "      <td>84.0</td>\n",
       "      <td>167.0</td>\n",
       "      <td>-0.007199</td>\n",
       "    </tr>\n",
       "    <tr>\n",
       "      <th>1975-12-15</th>\n",
       "      <td>137.6</td>\n",
       "      <td>90.0</td>\n",
       "      <td>143.0</td>\n",
       "      <td>-0.005797</td>\n",
       "    </tr>\n",
       "    <tr>\n",
       "      <th>1975-12-16</th>\n",
       "      <td>138.3</td>\n",
       "      <td>56.0</td>\n",
       "      <td>133.0</td>\n",
       "      <td>0.005074</td>\n",
       "    </tr>\n",
       "    <tr>\n",
       "      <th>1975-12-17</th>\n",
       "      <td>138.6</td>\n",
       "      <td>45.0</td>\n",
       "      <td>114.0</td>\n",
       "      <td>0.002167</td>\n",
       "    </tr>\n",
       "    <tr>\n",
       "      <th>1975-12-18</th>\n",
       "      <td>138.5</td>\n",
       "      <td>16.0</td>\n",
       "      <td>65.0</td>\n",
       "      <td>-0.000722</td>\n",
       "    </tr>\n",
       "    <tr>\n",
       "      <th>1975-12-19</th>\n",
       "      <td>145.6</td>\n",
       "      <td>10.0</td>\n",
       "      <td>65.0</td>\n",
       "      <td>0.049993</td>\n",
       "    </tr>\n",
       "    <tr>\n",
       "      <th>1975-12-22</th>\n",
       "      <td>142.8</td>\n",
       "      <td>71.0</td>\n",
       "      <td>46.0</td>\n",
       "      <td>-0.019418</td>\n",
       "    </tr>\n",
       "    <tr>\n",
       "      <th>1975-12-23</th>\n",
       "      <td>141.0</td>\n",
       "      <td>36.0</td>\n",
       "      <td>44.0</td>\n",
       "      <td>-0.012685</td>\n",
       "    </tr>\n",
       "    <tr>\n",
       "      <th>1975-12-24</th>\n",
       "      <td>141.0</td>\n",
       "      <td>1.0</td>\n",
       "      <td>21.0</td>\n",
       "      <td>0.000000</td>\n",
       "    </tr>\n",
       "    <tr>\n",
       "      <th>1975-12-29</th>\n",
       "      <td>141.9</td>\n",
       "      <td>558.0</td>\n",
       "      <td>3830.0</td>\n",
       "      <td>0.006363</td>\n",
       "    </tr>\n",
       "    <tr>\n",
       "      <th>1975-12-30</th>\n",
       "      <td>141.8</td>\n",
       "      <td>618.0</td>\n",
       "      <td>3901.0</td>\n",
       "      <td>-0.000705</td>\n",
       "    </tr>\n",
       "    <tr>\n",
       "      <th>1975-12-31</th>\n",
       "      <td>141.0</td>\n",
       "      <td>273.0</td>\n",
       "      <td>3895.0</td>\n",
       "      <td>-0.005658</td>\n",
       "    </tr>\n",
       "  </tbody>\n",
       "</table>\n",
       "<p>248 rows × 4 columns</p>\n",
       "</div>"
      ],
      "text/plain": [
       "            Settle  Volume  Previous Day Open Interest    Change\n",
       "Date                                                            \n",
       "1975-01-02   175.1   294.0                       209.0 -0.049035\n",
       "1975-01-03   174.7   174.0                       216.0 -0.002287\n",
       "1975-01-06   174.4   197.0                       225.0 -0.001719\n",
       "1975-01-07   173.4    98.0                       240.0 -0.005750\n",
       "1975-01-08   177.4    69.0                       224.0  0.022806\n",
       "1975-01-09   178.3    25.0                       246.0  0.005060\n",
       "1975-01-10   181.3    24.0                       260.0  0.016686\n",
       "1975-01-13   178.6    31.0                       258.0 -0.015004\n",
       "1975-01-14   178.6     7.0                       255.0  0.000000\n",
       "1975-01-15   177.3    29.0                       275.0 -0.007305\n",
       "1975-01-16   175.1    40.0                       266.0 -0.012486\n",
       "1975-01-17   172.1    18.0                       296.0 -0.017282\n",
       "1975-01-20   176.2    18.0                       268.0  0.023544\n",
       "1975-01-21   173.7     0.0                       277.0 -0.014290\n",
       "1975-01-22   174.3    38.0                       285.0  0.003448\n",
       "1975-01-23   176.4    40.0                       290.0  0.011976\n",
       "1975-01-24   179.5    55.0                       325.0  0.017421\n",
       "1975-01-27   176.8    30.0                       320.0 -0.015156\n",
       "1975-01-28   176.0    93.0                       340.0 -0.004535\n",
       "1975-01-29   179.1    12.0                       336.0  0.017460\n",
       "1975-01-30   175.8     8.0                       336.0 -0.018597\n",
       "1975-01-31   175.5    33.0                       338.0 -0.001708\n",
       "1975-02-03   175.8    25.0                       336.0  0.001708\n",
       "1975-02-04   174.8    10.0                       331.0 -0.005705\n",
       "1975-02-05   174.2     5.0                       331.0 -0.003438\n",
       "1975-02-06   173.8    20.0                       157.0 -0.002299\n",
       "1975-02-07   175.1     2.0                       154.0  0.007452\n",
       "1975-02-10   173.7     3.0                        80.0 -0.008028\n",
       "1975-02-11   174.8     0.0                        77.0  0.006313\n",
       "1975-02-13   183.5    52.0                       103.0  0.048572\n",
       "...            ...     ...                         ...       ...\n",
       "1975-11-17   139.3  1101.0                      2721.0 -0.016376\n",
       "1975-11-18   140.3  1303.0                      2446.0  0.007153\n",
       "1975-11-19   142.9  1140.0                      2427.0  0.018362\n",
       "1975-11-20   141.8   581.0                      2260.0 -0.007727\n",
       "1975-11-21   141.1   564.0                      2090.0 -0.004949\n",
       "1975-11-24   141.3   901.0                      1838.0  0.001416\n",
       "1975-11-25   140.3   850.0                      1554.0 -0.007102\n",
       "1975-11-26   139.6   587.0                       826.0 -0.005002\n",
       "1975-11-28   137.3   548.0                       740.0 -0.016613\n",
       "1975-12-01   137.0   397.0                       628.0 -0.002187\n",
       "1975-12-02   138.8   274.0                       607.0  0.013053\n",
       "1975-12-03   138.0   244.0                       541.0 -0.005780\n",
       "1975-12-04   138.1   196.0                       447.0  0.000724\n",
       "1975-12-05   137.8   227.0                       362.0 -0.002175\n",
       "1975-12-08   136.1   145.0                       323.0 -0.012413\n",
       "1975-12-09   137.6   116.0                       336.0  0.010961\n",
       "1975-12-10   139.4    70.0                       258.0  0.012997\n",
       "1975-12-11   139.4    53.0                       225.0  0.000000\n",
       "1975-12-12   138.4    84.0                       167.0 -0.007199\n",
       "1975-12-15   137.6    90.0                       143.0 -0.005797\n",
       "1975-12-16   138.3    56.0                       133.0  0.005074\n",
       "1975-12-17   138.6    45.0                       114.0  0.002167\n",
       "1975-12-18   138.5    16.0                        65.0 -0.000722\n",
       "1975-12-19   145.6    10.0                        65.0  0.049993\n",
       "1975-12-22   142.8    71.0                        46.0 -0.019418\n",
       "1975-12-23   141.0    36.0                        44.0 -0.012685\n",
       "1975-12-24   141.0     1.0                        21.0  0.000000\n",
       "1975-12-29   141.9   558.0                      3830.0  0.006363\n",
       "1975-12-30   141.8   618.0                      3901.0 -0.000705\n",
       "1975-12-31   141.0   273.0                      3895.0 -0.005658\n",
       "\n",
       "[248 rows x 4 columns]"
      ]
     },
     "execution_count": 347,
     "metadata": {},
     "output_type": "execute_result"
    }
   ],
   "source": [
    "y_1975"
   ]
  },
  {
   "cell_type": "markdown",
   "metadata": {},
   "source": [
    "tramite boxplot verifichiamo se ci sono outlier per ogni anno, segniamo gli anni che presentano outliers e poi li esaminiamo successivamente gli outliers individuati"
   ]
  },
  {
   "cell_type": "code",
   "execution_count": 384,
   "metadata": {},
   "outputs": [
    {
     "data": {
      "text/plain": [
       "<function matplotlib.pyplot.show(*args, **kw)>"
      ]
     },
     "execution_count": 384,
     "metadata": {},
     "output_type": "execute_result"
    },
    {
     "data": {
      "image/png": "[encoded data removed]",
      "text/plain": [
       "<Figure size 432x288 with 1 Axes>"
      ]
     },
     "metadata": {},
     "output_type": "display_data"
    }
   ],
   "source": [
    "import seaborn as sns\n",
    "import matplotlib.pyplot as plt\n",
    "\n",
    "sns.boxplot(data=y_2006['Settle'])\n",
    "plt.show"
   ]
  },
  {
   "cell_type": "code",
   "execution_count": 376,
   "metadata": {},
   "outputs": [],
   "source": [
    "anomalies = []\n",
    "\n",
    "# Function to Detection Outlier on one-dimentional datasets.\n",
    "def find_anomalies(data):\n",
    "    # Set upper and lower limit to 3 standard deviation\n",
    "    data_std = np.std(data)\n",
    "    data_mean = np.mean(data)\n",
    "    anomaly_cut_off = data_std * 3\n",
    "    \n",
    "    lower_limit  = data_mean - anomaly_cut_off \n",
    "    upper_limit = data_mean + anomaly_cut_off\n",
    "    print(lower_limit, upper_limit)\n",
    "    # Generate outliers\n",
    "    for outlier in data:\n",
    "        if outlier > upper_limit or outlier < lower_limit:\n",
    "            anomalies.append(outlier)\n",
    "    return anomalies"
   ]
  },
  {
   "cell_type": "code",
   "execution_count": 385,
   "metadata": {},
   "outputs": [
    {
     "name": "stdout",
     "output_type": "stream",
     "text": [
      "482.523666337774 729.4803336622259\n"
     ]
    },
    {
     "data": {
      "text/plain": [
       "[766.4]"
      ]
     },
     "execution_count": 385,
     "metadata": {},
     "output_type": "execute_result"
    }
   ],
   "source": [
    "find_anomalies(y_2006['Settle'])"
   ]
  },
  {
   "cell_type": "markdown",
   "metadata": {},
   "source": [
    "Con questo metodo non è possibile individuare outliers con riferimento ai prezzi di un asset finanziario poiche possono verificarsi giornate di forte incremento o caduta dei prezzi. Quindi procediamo verificando le variazioni di prezzo superiori ed inferiori al 6% e poi confrontandoli con un altro database (in questo caso investing.com)"
   ]
  },
  {
   "cell_type": "code",
   "execution_count": 373,
   "metadata": {},
   "outputs": [
    {
     "data": {
      "text/html": [
       "<div>\n",
       "<style scoped>\n",
       "    .dataframe tbody tr th:only-of-type {\n",
       "        vertical-align: middle;\n",
       "    }\n",
       "\n",
       "    .dataframe tbody tr th {\n",
       "        vertical-align: top;\n",
       "    }\n",
       "\n",
       "    .dataframe thead th {\n",
       "        text-align: right;\n",
       "    }\n",
       "</style>\n",
       "<table border=\"1\" class=\"dataframe\">\n",
       "  <thead>\n",
       "    <tr style=\"text-align: right;\">\n",
       "      <th></th>\n",
       "      <th>Settle</th>\n",
       "      <th>Volume</th>\n",
       "      <th>Previous Day Open Interest</th>\n",
       "      <th>Change</th>\n",
       "    </tr>\n",
       "    <tr>\n",
       "      <th>Date</th>\n",
       "      <th></th>\n",
       "      <th></th>\n",
       "      <th></th>\n",
       "      <th></th>\n",
       "    </tr>\n",
       "  </thead>\n",
       "  <tbody>\n",
       "    <tr>\n",
       "      <th>1978-11-24</th>\n",
       "      <td>228.2</td>\n",
       "      <td>168.0</td>\n",
       "      <td>13510.0</td>\n",
       "      <td>0.124929</td>\n",
       "    </tr>\n",
       "    <tr>\n",
       "      <th>1979-10-09</th>\n",
       "      <td>393.5</td>\n",
       "      <td>406.0</td>\n",
       "      <td>621.0</td>\n",
       "      <td>0.070264</td>\n",
       "    </tr>\n",
       "    <tr>\n",
       "      <th>1980-01-16</th>\n",
       "      <td>740.5</td>\n",
       "      <td>5287.0</td>\n",
       "      <td>18553.0</td>\n",
       "      <td>0.069910</td>\n",
       "    </tr>\n",
       "    <tr>\n",
       "      <th>1980-01-17</th>\n",
       "      <td>790.5</td>\n",
       "      <td>18073.0</td>\n",
       "      <td>18256.0</td>\n",
       "      <td>0.065340</td>\n",
       "    </tr>\n",
       "    <tr>\n",
       "      <th>1980-01-29</th>\n",
       "      <td>702.0</td>\n",
       "      <td>9005.0</td>\n",
       "      <td>8962.0</td>\n",
       "      <td>0.094029</td>\n",
       "    </tr>\n",
       "    <tr>\n",
       "      <th>1980-03-19</th>\n",
       "      <td>538.5</td>\n",
       "      <td>13802.0</td>\n",
       "      <td>16857.0</td>\n",
       "      <td>0.097448</td>\n",
       "    </tr>\n",
       "    <tr>\n",
       "      <th>1980-03-28</th>\n",
       "      <td>509.0</td>\n",
       "      <td>7193.0</td>\n",
       "      <td>5532.0</td>\n",
       "      <td>0.094721</td>\n",
       "    </tr>\n",
       "    <tr>\n",
       "      <th>1980-04-07</th>\n",
       "      <td>521.5</td>\n",
       "      <td>2146.0</td>\n",
       "      <td>3122.0</td>\n",
       "      <td>0.068240</td>\n",
       "    </tr>\n",
       "    <tr>\n",
       "      <th>1982-07-09</th>\n",
       "      <td>348.0</td>\n",
       "      <td>65840.0</td>\n",
       "      <td>51638.0</td>\n",
       "      <td>0.069301</td>\n",
       "    </tr>\n",
       "    <tr>\n",
       "      <th>1982-10-07</th>\n",
       "      <td>432.0</td>\n",
       "      <td>15667.0</td>\n",
       "      <td>3771.0</td>\n",
       "      <td>0.082225</td>\n",
       "    </tr>\n",
       "    <tr>\n",
       "      <th>1982-10-11</th>\n",
       "      <td>448.0</td>\n",
       "      <td>3567.0</td>\n",
       "      <td>1793.0</td>\n",
       "      <td>0.068355</td>\n",
       "    </tr>\n",
       "    <tr>\n",
       "      <th>1985-03-19</th>\n",
       "      <td>328.8</td>\n",
       "      <td>74287.0</td>\n",
       "      <td>35855.0</td>\n",
       "      <td>0.079080</td>\n",
       "    </tr>\n",
       "    <tr>\n",
       "      <th>1999-09-28</th>\n",
       "      <td>308.1</td>\n",
       "      <td>872.0</td>\n",
       "      <td>2139.0</td>\n",
       "      <td>0.088872</td>\n",
       "    </tr>\n",
       "    <tr>\n",
       "      <th>2000-02-04</th>\n",
       "      <td>310.4</td>\n",
       "      <td>298.0</td>\n",
       "      <td>794.0</td>\n",
       "      <td>0.077683</td>\n",
       "    </tr>\n",
       "    <tr>\n",
       "      <th>2001-09-14</th>\n",
       "      <td>291.1</td>\n",
       "      <td>2522.0</td>\n",
       "      <td>8296.0</td>\n",
       "      <td>0.066762</td>\n",
       "    </tr>\n",
       "    <tr>\n",
       "      <th>2006-05-29</th>\n",
       "      <td>766.4</td>\n",
       "      <td>0.0</td>\n",
       "      <td>2952.0</td>\n",
       "      <td>0.163195</td>\n",
       "    </tr>\n",
       "    <tr>\n",
       "      <th>2006-11-24</th>\n",
       "      <td>716.5</td>\n",
       "      <td>0.0</td>\n",
       "      <td>4961.0</td>\n",
       "      <td>0.130247</td>\n",
       "    </tr>\n",
       "    <tr>\n",
       "      <th>2007-01-02</th>\n",
       "      <td>720.6</td>\n",
       "      <td>0.0</td>\n",
       "      <td>5062.0</td>\n",
       "      <td>0.121746</td>\n",
       "    </tr>\n",
       "    <tr>\n",
       "      <th>2007-01-15</th>\n",
       "      <td>708.1</td>\n",
       "      <td>0.0</td>\n",
       "      <td>5279.0</td>\n",
       "      <td>0.121798</td>\n",
       "    </tr>\n",
       "    <tr>\n",
       "      <th>2007-02-19</th>\n",
       "      <td>750.6</td>\n",
       "      <td>0.0</td>\n",
       "      <td>5262.0</td>\n",
       "      <td>0.115388</td>\n",
       "    </tr>\n",
       "    <tr>\n",
       "      <th>2007-05-28</th>\n",
       "      <td>715.8</td>\n",
       "      <td>0.0</td>\n",
       "      <td>4412.0</td>\n",
       "      <td>0.088308</td>\n",
       "    </tr>\n",
       "    <tr>\n",
       "      <th>2007-07-04</th>\n",
       "      <td>710.2</td>\n",
       "      <td>0.0</td>\n",
       "      <td>13603.0</td>\n",
       "      <td>0.080301</td>\n",
       "    </tr>\n",
       "    <tr>\n",
       "      <th>2007-09-03</th>\n",
       "      <td>720.3</td>\n",
       "      <td>100.0</td>\n",
       "      <td>11414.0</td>\n",
       "      <td>0.063771</td>\n",
       "    </tr>\n",
       "    <tr>\n",
       "      <th>2008-09-17</th>\n",
       "      <td>847.1</td>\n",
       "      <td>6711.0</td>\n",
       "      <td>28489.0</td>\n",
       "      <td>0.086250</td>\n",
       "    </tr>\n",
       "    <tr>\n",
       "      <th>2009-03-19</th>\n",
       "      <td>958.8</td>\n",
       "      <td>226078.0</td>\n",
       "      <td>177880.0</td>\n",
       "      <td>0.075473</td>\n",
       "    </tr>\n",
       "  </tbody>\n",
       "</table>\n",
       "</div>"
      ],
      "text/plain": [
       "            Settle    Volume  Previous Day Open Interest    Change\n",
       "Date                                                              \n",
       "1978-11-24   228.2     168.0                     13510.0  0.124929\n",
       "1979-10-09   393.5     406.0                       621.0  0.070264\n",
       "1980-01-16   740.5    5287.0                     18553.0  0.069910\n",
       "1980-01-17   790.5   18073.0                     18256.0  0.065340\n",
       "1980-01-29   702.0    9005.0                      8962.0  0.094029\n",
       "1980-03-19   538.5   13802.0                     16857.0  0.097448\n",
       "1980-03-28   509.0    7193.0                      5532.0  0.094721\n",
       "1980-04-07   521.5    2146.0                      3122.0  0.068240\n",
       "1982-07-09   348.0   65840.0                     51638.0  0.069301\n",
       "1982-10-07   432.0   15667.0                      3771.0  0.082225\n",
       "1982-10-11   448.0    3567.0                      1793.0  0.068355\n",
       "1985-03-19   328.8   74287.0                     35855.0  0.079080\n",
       "1999-09-28   308.1     872.0                      2139.0  0.088872\n",
       "2000-02-04   310.4     298.0                       794.0  0.077683\n",
       "2001-09-14   291.1    2522.0                      8296.0  0.066762\n",
       "2006-05-29   766.4       0.0                      2952.0  0.163195\n",
       "2006-11-24   716.5       0.0                      4961.0  0.130247\n",
       "2007-01-02   720.6       0.0                      5062.0  0.121746\n",
       "2007-01-15   708.1       0.0                      5279.0  0.121798\n",
       "2007-02-19   750.6       0.0                      5262.0  0.115388\n",
       "2007-05-28   715.8       0.0                      4412.0  0.088308\n",
       "2007-07-04   710.2       0.0                     13603.0  0.080301\n",
       "2007-09-03   720.3     100.0                     11414.0  0.063771\n",
       "2008-09-17   847.1    6711.0                     28489.0  0.086250\n",
       "2009-03-19   958.8  226078.0                    177880.0  0.075473"
      ]
     },
     "execution_count": 373,
     "metadata": {},
     "output_type": "execute_result"
    }
   ],
   "source": [
    "gold[gold['Change'] > 0.06].sort_values('Date')"
   ]
  },
  {
   "cell_type": "code",
   "execution_count": 214,
   "metadata": {},
   "outputs": [
    {
     "data": {
      "text/html": [
       "<div>\n",
       "<style scoped>\n",
       "    .dataframe tbody tr th:only-of-type {\n",
       "        vertical-align: middle;\n",
       "    }\n",
       "\n",
       "    .dataframe tbody tr th {\n",
       "        vertical-align: top;\n",
       "    }\n",
       "\n",
       "    .dataframe thead th {\n",
       "        text-align: right;\n",
       "    }\n",
       "</style>\n",
       "<table border=\"1\" class=\"dataframe\">\n",
       "  <thead>\n",
       "    <tr style=\"text-align: right;\">\n",
       "      <th></th>\n",
       "      <th>Settle</th>\n",
       "      <th>Volume</th>\n",
       "      <th>Previous Day Open Interest</th>\n",
       "      <th>Change</th>\n",
       "    </tr>\n",
       "    <tr>\n",
       "      <th>Date</th>\n",
       "      <th></th>\n",
       "      <th></th>\n",
       "      <th></th>\n",
       "      <th></th>\n",
       "    </tr>\n",
       "  </thead>\n",
       "  <tbody>\n",
       "    <tr>\n",
       "      <th>1974-12-31</th>\n",
       "      <td>183.9</td>\n",
       "      <td>512.0</td>\n",
       "      <td>237.0</td>\n",
       "      <td>NaN</td>\n",
       "    </tr>\n",
       "    <tr>\n",
       "      <th>1975-01-02</th>\n",
       "      <td>175.1</td>\n",
       "      <td>294.0</td>\n",
       "      <td>209.0</td>\n",
       "      <td>-0.049035</td>\n",
       "    </tr>\n",
       "    <tr>\n",
       "      <th>1975-01-03</th>\n",
       "      <td>174.7</td>\n",
       "      <td>174.0</td>\n",
       "      <td>216.0</td>\n",
       "      <td>-0.002287</td>\n",
       "    </tr>\n",
       "    <tr>\n",
       "      <th>1975-01-06</th>\n",
       "      <td>174.4</td>\n",
       "      <td>197.0</td>\n",
       "      <td>225.0</td>\n",
       "      <td>-0.001719</td>\n",
       "    </tr>\n",
       "    <tr>\n",
       "      <th>1975-01-07</th>\n",
       "      <td>173.4</td>\n",
       "      <td>98.0</td>\n",
       "      <td>240.0</td>\n",
       "      <td>-0.005750</td>\n",
       "    </tr>\n",
       "  </tbody>\n",
       "</table>\n",
       "</div>"
      ],
      "text/plain": [
       "            Settle  Volume  Previous Day Open Interest    Change\n",
       "Date                                                            \n",
       "1974-12-31   183.9   512.0                       237.0       NaN\n",
       "1975-01-02   175.1   294.0                       209.0 -0.049035\n",
       "1975-01-03   174.7   174.0                       216.0 -0.002287\n",
       "1975-01-06   174.4   197.0                       225.0 -0.001719\n",
       "1975-01-07   173.4    98.0                       240.0 -0.005750"
      ]
     },
     "execution_count": 214,
     "metadata": {},
     "output_type": "execute_result"
    }
   ],
   "source": [
    "gold.head()"
   ]
  },
  {
   "cell_type": "markdown",
   "metadata": {},
   "source": [
    "Eliminiamo i prezzi errati"
   ]
  },
  {
   "cell_type": "code",
   "execution_count": 381,
   "metadata": {},
   "outputs": [],
   "source": [
    "gold.drop(pd.datetime(1978,11,24), inplace = True)"
   ]
  },
  {
   "cell_type": "code",
   "execution_count": 386,
   "metadata": {},
   "outputs": [],
   "source": [
    "gold.drop(pd.datetime(2006,5,29), inplace = True)"
   ]
  },
  {
   "cell_type": "code",
   "execution_count": 387,
   "metadata": {},
   "outputs": [],
   "source": [
    "gold.drop(pd.datetime(2006,11,24), inplace = True)"
   ]
  },
  {
   "cell_type": "code",
   "execution_count": 388,
   "metadata": {},
   "outputs": [],
   "source": [
    "gold.drop(pd.datetime(2007,1,2), inplace = True)"
   ]
  },
  {
   "cell_type": "code",
   "execution_count": 389,
   "metadata": {},
   "outputs": [],
   "source": [
    "gold.drop(pd.datetime(2007,1,15), inplace = True)"
   ]
  },
  {
   "cell_type": "code",
   "execution_count": 390,
   "metadata": {},
   "outputs": [],
   "source": [
    "gold.drop(pd.datetime(2007,2,19), inplace = True)"
   ]
  },
  {
   "cell_type": "code",
   "execution_count": 391,
   "metadata": {},
   "outputs": [],
   "source": [
    "gold.drop(pd.datetime(2007,5,28), inplace = True)"
   ]
  },
  {
   "cell_type": "code",
   "execution_count": 392,
   "metadata": {},
   "outputs": [],
   "source": [
    "gold.drop(pd.datetime(2007,7,4), inplace = True)"
   ]
  },
  {
   "cell_type": "code",
   "execution_count": 398,
   "metadata": {},
   "outputs": [],
   "source": [
    "gold.drop(pd.datetime(2007,9,3), inplace = True)"
   ]
  },
  {
   "cell_type": "markdown",
   "metadata": {},
   "source": [
    "Una volta eliminati le righe corrispondenti a valori errati ricalcolo i rendimenti giornalieri logaritmici"
   ]
  },
  {
   "cell_type": "code",
   "execution_count": 400,
   "metadata": {},
   "outputs": [],
   "source": [
    "gold[\"Change\"] = np.log(gold[\"Settle\"]/gold[\"Settle\"].shift(1))"
   ]
  },
  {
   "cell_type": "code",
   "execution_count": 402,
   "metadata": {},
   "outputs": [
    {
     "data": {
      "text/html": [
       "<div>\n",
       "<style scoped>\n",
       "    .dataframe tbody tr th:only-of-type {\n",
       "        vertical-align: middle;\n",
       "    }\n",
       "\n",
       "    .dataframe tbody tr th {\n",
       "        vertical-align: top;\n",
       "    }\n",
       "\n",
       "    .dataframe thead th {\n",
       "        text-align: right;\n",
       "    }\n",
       "</style>\n",
       "<table border=\"1\" class=\"dataframe\">\n",
       "  <thead>\n",
       "    <tr style=\"text-align: right;\">\n",
       "      <th></th>\n",
       "      <th>Settle</th>\n",
       "      <th>Volume</th>\n",
       "      <th>Previous Day Open Interest</th>\n",
       "      <th>Change</th>\n",
       "    </tr>\n",
       "    <tr>\n",
       "      <th>Date</th>\n",
       "      <th></th>\n",
       "      <th></th>\n",
       "      <th></th>\n",
       "      <th></th>\n",
       "    </tr>\n",
       "  </thead>\n",
       "  <tbody>\n",
       "    <tr>\n",
       "      <th>1975-09-02</th>\n",
       "      <td>150.2</td>\n",
       "      <td>135.0</td>\n",
       "      <td>2830.0</td>\n",
       "      <td>-0.064455</td>\n",
       "    </tr>\n",
       "    <tr>\n",
       "      <th>1979-10-04</th>\n",
       "      <td>369.7</td>\n",
       "      <td>1040.0</td>\n",
       "      <td>2094.0</td>\n",
       "      <td>-0.062389</td>\n",
       "    </tr>\n",
       "    <tr>\n",
       "      <th>1979-10-11</th>\n",
       "      <td>386.8</td>\n",
       "      <td>658.0</td>\n",
       "      <td>873.0</td>\n",
       "      <td>-0.072056</td>\n",
       "    </tr>\n",
       "    <tr>\n",
       "      <th>1980-01-22</th>\n",
       "      <td>784.0</td>\n",
       "      <td>4592.0</td>\n",
       "      <td>16399.0</td>\n",
       "      <td>-0.061824</td>\n",
       "    </tr>\n",
       "    <tr>\n",
       "      <th>1980-01-23</th>\n",
       "      <td>734.0</td>\n",
       "      <td>4473.0</td>\n",
       "      <td>15847.0</td>\n",
       "      <td>-0.065900</td>\n",
       "    </tr>\n",
       "    <tr>\n",
       "      <th>1980-01-24</th>\n",
       "      <td>684.0</td>\n",
       "      <td>11592.0</td>\n",
       "      <td>13445.0</td>\n",
       "      <td>-0.070551</td>\n",
       "    </tr>\n",
       "    <tr>\n",
       "      <th>1980-01-25</th>\n",
       "      <td>635.0</td>\n",
       "      <td>11721.0</td>\n",
       "      <td>11986.0</td>\n",
       "      <td>-0.074333</td>\n",
       "    </tr>\n",
       "    <tr>\n",
       "      <th>1980-01-30</th>\n",
       "      <td>658.0</td>\n",
       "      <td>5463.0</td>\n",
       "      <td>4499.0</td>\n",
       "      <td>-0.064728</td>\n",
       "    </tr>\n",
       "    <tr>\n",
       "      <th>1980-02-22</th>\n",
       "      <td>615.0</td>\n",
       "      <td>5312.0</td>\n",
       "      <td>1311.0</td>\n",
       "      <td>-0.065300</td>\n",
       "    </tr>\n",
       "    <tr>\n",
       "      <th>1980-03-10</th>\n",
       "      <td>567.5</td>\n",
       "      <td>17297.0</td>\n",
       "      <td>23406.0</td>\n",
       "      <td>-0.063988</td>\n",
       "    </tr>\n",
       "    <tr>\n",
       "      <th>1980-03-13</th>\n",
       "      <td>544.0</td>\n",
       "      <td>11346.0</td>\n",
       "      <td>19827.0</td>\n",
       "      <td>-0.066662</td>\n",
       "    </tr>\n",
       "    <tr>\n",
       "      <th>1980-03-17</th>\n",
       "      <td>480.0</td>\n",
       "      <td>8365.0</td>\n",
       "      <td>17812.0</td>\n",
       "      <td>-0.099091</td>\n",
       "    </tr>\n",
       "    <tr>\n",
       "      <th>1980-03-27</th>\n",
       "      <td>463.0</td>\n",
       "      <td>18769.0</td>\n",
       "      <td>10321.0</td>\n",
       "      <td>-0.084849</td>\n",
       "    </tr>\n",
       "    <tr>\n",
       "      <th>1990-03-26</th>\n",
       "      <td>366.2</td>\n",
       "      <td>71440.0</td>\n",
       "      <td>36392.0</td>\n",
       "      <td>-0.061427</td>\n",
       "    </tr>\n",
       "    <tr>\n",
       "      <th>1990-08-27</th>\n",
       "      <td>388.3</td>\n",
       "      <td>69.0</td>\n",
       "      <td>84.0</td>\n",
       "      <td>-0.066500</td>\n",
       "    </tr>\n",
       "    <tr>\n",
       "      <th>1991-01-17</th>\n",
       "      <td>374.4</td>\n",
       "      <td>81099.0</td>\n",
       "      <td>40725.0</td>\n",
       "      <td>-0.077327</td>\n",
       "    </tr>\n",
       "    <tr>\n",
       "      <th>2006-06-13</th>\n",
       "      <td>562.5</td>\n",
       "      <td>207.0</td>\n",
       "      <td>289.0</td>\n",
       "      <td>-0.075808</td>\n",
       "    </tr>\n",
       "    <tr>\n",
       "      <th>2008-03-19</th>\n",
       "      <td>945.3</td>\n",
       "      <td>169337.0</td>\n",
       "      <td>236421.0</td>\n",
       "      <td>-0.060544</td>\n",
       "    </tr>\n",
       "    <tr>\n",
       "      <th>2011-09-23</th>\n",
       "      <td>1637.7</td>\n",
       "      <td>11928.0</td>\n",
       "      <td>30297.0</td>\n",
       "      <td>-0.060247</td>\n",
       "    </tr>\n",
       "    <tr>\n",
       "      <th>2013-04-15</th>\n",
       "      <td>1360.6</td>\n",
       "      <td>1309.0</td>\n",
       "      <td>1067.0</td>\n",
       "      <td>-0.098206</td>\n",
       "    </tr>\n",
       "    <tr>\n",
       "      <th>2013-06-20</th>\n",
       "      <td>1285.9</td>\n",
       "      <td>712.0</td>\n",
       "      <td>904.0</td>\n",
       "      <td>-0.065976</td>\n",
       "    </tr>\n",
       "  </tbody>\n",
       "</table>\n",
       "</div>"
      ],
      "text/plain": [
       "            Settle    Volume  Previous Day Open Interest    Change\n",
       "Date                                                              \n",
       "1975-09-02   150.2     135.0                      2830.0 -0.064455\n",
       "1979-10-04   369.7    1040.0                      2094.0 -0.062389\n",
       "1979-10-11   386.8     658.0                       873.0 -0.072056\n",
       "1980-01-22   784.0    4592.0                     16399.0 -0.061824\n",
       "1980-01-23   734.0    4473.0                     15847.0 -0.065900\n",
       "1980-01-24   684.0   11592.0                     13445.0 -0.070551\n",
       "1980-01-25   635.0   11721.0                     11986.0 -0.074333\n",
       "1980-01-30   658.0    5463.0                      4499.0 -0.064728\n",
       "1980-02-22   615.0    5312.0                      1311.0 -0.065300\n",
       "1980-03-10   567.5   17297.0                     23406.0 -0.063988\n",
       "1980-03-13   544.0   11346.0                     19827.0 -0.066662\n",
       "1980-03-17   480.0    8365.0                     17812.0 -0.099091\n",
       "1980-03-27   463.0   18769.0                     10321.0 -0.084849\n",
       "1990-03-26   366.2   71440.0                     36392.0 -0.061427\n",
       "1990-08-27   388.3      69.0                        84.0 -0.066500\n",
       "1991-01-17   374.4   81099.0                     40725.0 -0.077327\n",
       "2006-06-13   562.5     207.0                       289.0 -0.075808\n",
       "2008-03-19   945.3  169337.0                    236421.0 -0.060544\n",
       "2011-09-23  1637.7   11928.0                     30297.0 -0.060247\n",
       "2013-04-15  1360.6    1309.0                      1067.0 -0.098206\n",
       "2013-06-20  1285.9     712.0                       904.0 -0.065976"
      ]
     },
     "execution_count": 402,
     "metadata": {},
     "output_type": "execute_result"
    }
   ],
   "source": [
    "gold[gold['Change'] < -0.06].sort_values('Date')"
   ]
  },
  {
   "cell_type": "markdown",
   "metadata": {},
   "source": [
    "## c) Analisi generale de dati"
   ]
  },
  {
   "cell_type": "markdown",
   "metadata": {},
   "source": [
    "Inizio cercando la variazione di prezzo min e max"
   ]
  },
  {
   "cell_type": "code",
   "execution_count": 406,
   "metadata": {},
   "outputs": [
    {
     "name": "stdout",
     "output_type": "stream",
     "text": [
      "0.09744802511360588\n",
      "-0.09909090264423089\n"
     ]
    }
   ],
   "source": [
    "max_change = gold['Change'].max()\n",
    "min_change = gold['Change'].min()\n",
    "print(max_change)\n",
    "print(min_change)"
   ]
  },
  {
   "cell_type": "markdown",
   "metadata": {},
   "source": [
    "Una volta calcolato il max e min individuo il giorno in cui sono avvenuti"
   ]
  },
  {
   "cell_type": "code",
   "execution_count": 404,
   "metadata": {},
   "outputs": [
    {
     "name": "stdout",
     "output_type": "stream",
     "text": [
      "            Settle   Volume  Previous Day Open Interest    Change\n",
      "Date                                                             \n",
      "1980-03-19   538.5  13802.0                     16857.0  0.097448\n"
     ]
    }
   ],
   "source": [
    "print(gold[gold[\"Change\"] == max_change])"
   ]
  },
  {
   "cell_type": "code",
   "execution_count": 405,
   "metadata": {},
   "outputs": [
    {
     "name": "stdout",
     "output_type": "stream",
     "text": [
      "            Settle  Volume  Previous Day Open Interest    Change\n",
      "Date                                                            \n",
      "1980-03-17   480.0  8365.0                     17812.0 -0.099091\n"
     ]
    }
   ],
   "source": [
    "print(gold[gold[\"Change\"] == min_change])"
   ]
  },
  {
   "cell_type": "markdown",
   "metadata": {},
   "source": [
    "## d) Giornate Crash Borsa"
   ]
  },
  {
   "cell_type": "markdown",
   "metadata": {},
   "source": [
    "#### I) Black Monday 19 Oct 1987"
   ]
  },
  {
   "cell_type": "markdown",
   "metadata": {},
   "source": [
    "Infamous stock market crash that represented the greatest one-day percentage decline in U.S. stock market history, culminating in a bear market after a more than 20% plunge in the S&P 500 and Dow Jones Industrial Average. Among the primary causes of the chaos were program trading and illiquidity."
   ]
  },
  {
   "cell_type": "code",
   "execution_count": 413,
   "metadata": {},
   "outputs": [
    {
     "data": {
      "text/plain": [
       "Settle                        481.70000\n",
       "Volume                         68.00000\n",
       "Previous Day Open Interest    279.00000\n",
       "Change                          0.02119\n",
       "Name: 1987-10-19 00:00:00, dtype: float64"
      ]
     },
     "execution_count": 413,
     "metadata": {},
     "output_type": "execute_result"
    }
   ],
   "source": [
    "gold.loc[pd.datetime(1987,10,19)]"
   ]
  },
  {
   "cell_type": "markdown",
   "metadata": {},
   "source": [
    "Il giorno del maggior crash della borsa USA l'oro è salito solo del 2%"
   ]
  },
  {
   "cell_type": "markdown",
   "metadata": {},
   "source": [
    "#### II) Black Wednesday 16 Sept 1992"
   ]
  },
  {
   "cell_type": "markdown",
   "metadata": {},
   "source": [
    "The Conservative government was forced to withdraw the pound sterling from the European Exchange Rate Mechanism (ERM) after they were unable to keep sterling above its agreed lower limit."
   ]
  },
  {
   "cell_type": "code",
   "execution_count": 422,
   "metadata": {},
   "outputs": [
    {
     "data": {
      "text/plain": [
       "Settle                         350.200000\n",
       "Volume                         661.000000\n",
       "Previous Day Open Interest    4727.000000\n",
       "Change                           0.009468\n",
       "Name: 1992-09-16 00:00:00, dtype: float64"
      ]
     },
     "execution_count": 422,
     "metadata": {},
     "output_type": "execute_result"
    }
   ],
   "source": [
    "gold.loc[pd.datetime(1992,9,16)]"
   ]
  },
  {
   "cell_type": "code",
   "execution_count": null,
   "metadata": {},
   "outputs": [],
   "source": []
  },
  {
   "cell_type": "markdown",
   "metadata": {},
   "source": [
    "#### III) 1997 Asian Financial Crisis"
   ]
  },
  {
   "cell_type": "markdown",
   "metadata": {},
   "source": [
    "Investors deserted emerging Asian shares, including an overheated Hong Kong stock market. Crashes occur in Thailand, Indonesia, South Korea, Philippines, and elsewhere, reaching a climax in the October 27, 1997 mini-crash."
   ]
  },
  {
   "cell_type": "code",
   "execution_count": 423,
   "metadata": {},
   "outputs": [
    {
     "data": {
      "text/plain": [
       "Settle                        311.300000\n",
       "Volume                        163.000000\n",
       "Previous Day Open Interest    154.000000\n",
       "Change                          0.012933\n",
       "Name: 1997-10-27 00:00:00, dtype: float64"
      ]
     },
     "execution_count": 423,
     "metadata": {},
     "output_type": "execute_result"
    }
   ],
   "source": [
    "gold.loc[pd.datetime(1997,10,27)]"
   ]
  },
  {
   "cell_type": "code",
   "execution_count": null,
   "metadata": {},
   "outputs": [],
   "source": []
  },
  {
   "cell_type": "markdown",
   "metadata": {},
   "source": [
    "#### VI) Russia financial crisis"
   ]
  },
  {
   "cell_type": "markdown",
   "metadata": {},
   "source": [
    "The Russian government devalues the ruble, defaults on domestic debt, and declares a moratorium on payment to foreign creditors."
   ]
  },
  {
   "cell_type": "code",
   "execution_count": 425,
   "metadata": {},
   "outputs": [
    {
     "data": {
      "text/plain": [
       "Settle                        285.300000\n",
       "Volume                         77.000000\n",
       "Previous Day Open Interest    727.000000\n",
       "Change                          0.004919\n",
       "Name: 1998-08-17 00:00:00, dtype: float64"
      ]
     },
     "execution_count": 425,
     "metadata": {},
     "output_type": "execute_result"
    }
   ],
   "source": [
    "gold.loc[pd.datetime(1998,8,17)]"
   ]
  },
  {
   "cell_type": "markdown",
   "metadata": {},
   "source": [
    "#### V) Dot-com bubble"
   ]
  },
  {
   "cell_type": "code",
   "execution_count": 430,
   "metadata": {},
   "outputs": [
    {
     "data": {
      "text/plain": [
       "Settle                          290.000000\n",
       "Volume                        33677.000000\n",
       "Previous Day Open Interest    65421.000000\n",
       "Change                           -0.009267\n",
       "Name: 2000-03-10 00:00:00, dtype: float64"
      ]
     },
     "execution_count": 430,
     "metadata": {},
     "output_type": "execute_result"
    }
   ],
   "source": [
    "gold.loc[pd.datetime(2000,3,10)]"
   ]
  },
  {
   "cell_type": "markdown",
   "metadata": {},
   "source": [
    "#### VI) September 11 attacks"
   ]
  },
  {
   "cell_type": "markdown",
   "metadata": {},
   "source": [
    "The September 11 attacks caused global stock markets to drop sharply. The attacks themselves caused approximately $40 billion in insurance losses, making it one of the largest insured events ever. See world economic effects arising from the September 11 attacks"
   ]
  },
  {
   "cell_type": "code",
   "execution_count": 438,
   "metadata": {},
   "outputs": [
    {
     "data": {
      "text/plain": [
       "Settle                         291.100000\n",
       "Volume                        2522.000000\n",
       "Previous Day Open Interest    8296.000000\n",
       "Change                           0.066762\n",
       "Name: 2001-09-14 00:00:00, dtype: float64"
      ]
     },
     "execution_count": 438,
     "metadata": {},
     "output_type": "execute_result"
    }
   ],
   "source": [
    "gold.loc[pd.datetime(2001,9,14)]"
   ]
  },
  {
   "cell_type": "markdown",
   "metadata": {},
   "source": [
    "abbiamo controllato il 14 settembre poichè l'11 settembre le negoziazioni sono state ferme"
   ]
  },
  {
   "cell_type": "markdown",
   "metadata": {},
   "source": [
    "#### VII) Stock market downturn of 2002"
   ]
  },
  {
   "cell_type": "markdown",
   "metadata": {},
   "source": [
    "Downturn in stock prices during 2002 in stock exchanges across the United States, Canada, Asia, and Europe. After recovering from lows reached following the September 11 attacks, indices slid steadily starting in March 2002, with dramatic declines in July and September leading to lows last reached in 1997 and 1998. See stock market downturn of 2002."
   ]
  },
  {
   "cell_type": "code",
   "execution_count": 443,
   "metadata": {},
   "outputs": [
    {
     "data": {
      "text/plain": [
       "Settle                        319.60000\n",
       "Volume                          5.00000\n",
       "Previous Day Open Interest    853.00000\n",
       "Change                          0.00439\n",
       "Name: 2002-10-09 00:00:00, dtype: float64"
      ]
     },
     "execution_count": 443,
     "metadata": {},
     "output_type": "execute_result"
    }
   ],
   "source": [
    "gold.loc[pd.datetime(2002,10,9)]"
   ]
  },
  {
   "cell_type": "markdown",
   "metadata": {},
   "source": [
    "#### VIII) Chinese stock bubble 2007"
   ]
  },
  {
   "cell_type": "markdown",
   "metadata": {},
   "source": [
    "The SSE Composite Index of the Shanghai Stock Exchange tumbles 9% from unexpected selloffs, the largest drop in 10 years, triggering major drops in worldwide stock markets."
   ]
  },
  {
   "cell_type": "code",
   "execution_count": 446,
   "metadata": {},
   "outputs": [
    {
     "data": {
      "text/plain": [
       "Settle                           687.200000\n",
       "Volume                        131907.000000\n",
       "Previous Day Open Interest    241133.000000\n",
       "Change                             0.001019\n",
       "Name: 2007-02-27 00:00:00, dtype: float64"
      ]
     },
     "execution_count": 446,
     "metadata": {},
     "output_type": "execute_result"
    }
   ],
   "source": [
    "gold.loc[pd.datetime(2007,2,27)]"
   ]
  },
  {
   "cell_type": "markdown",
   "metadata": {},
   "source": [
    "#### IX) USA bear market 11 Oct 2007"
   ]
  },
  {
   "cell_type": "markdown",
   "metadata": {},
   "source": [
    "From their peaks in October 2007 until their closing lows in early March 2009, the Dow Jones Industrial Average, Nasdaq Composite and S&P 500 all suffered declines of over 50%, marking the worst stock market crash since the Great Depression era."
   ]
  },
  {
   "cell_type": "code",
   "execution_count": 452,
   "metadata": {},
   "outputs": [
    {
     "data": {
      "text/plain": [
       "Settle                        751.300000\n",
       "Volume                         32.000000\n",
       "Previous Day Open Interest    603.000000\n",
       "Change                          0.014614\n",
       "Name: 2007-10-11 00:00:00, dtype: float64"
      ]
     },
     "execution_count": 452,
     "metadata": {},
     "output_type": "execute_result"
    }
   ],
   "source": [
    "gold.loc[pd.datetime(2007,10,11)]"
   ]
  },
  {
   "cell_type": "markdown",
   "metadata": {},
   "source": [
    "#### X) Financial crisis 2007-08"
   ]
  },
  {
   "cell_type": "markdown",
   "metadata": {},
   "source": [
    "On September 16, 2008, failures of large financial institutions in the United States, due primarily to exposure of securities of packaged subprime loans and credit default swaps issued to insure these loans and their issuers, rapidly devolved into a global crisis resulting in a number of bank failures in Europe and sharp reductions in the value of equities (stock) and commodities worldwide. "
   ]
  },
  {
   "cell_type": "code",
   "execution_count": 455,
   "metadata": {},
   "outputs": [
    {
     "data": {
      "text/plain": [
       "Settle                          777.100000\n",
       "Volume                         6285.000000\n",
       "Previous Day Open Interest    28972.000000\n",
       "Change                           -0.008585\n",
       "Name: 2008-09-16 00:00:00, dtype: float64"
      ]
     },
     "execution_count": 455,
     "metadata": {},
     "output_type": "execute_result"
    }
   ],
   "source": [
    "gold.loc[pd.datetime(2008,9,16)]"
   ]
  },
  {
   "cell_type": "markdown",
   "metadata": {},
   "source": [
    "#### XI) Flash crash"
   ]
  },
  {
   "cell_type": "markdown",
   "metadata": {},
   "source": [
    "The Dow Jones Industrial Average suffers its worst intra-day point loss, dropping nearly 1,000 points before partially recovering."
   ]
  },
  {
   "cell_type": "code",
   "execution_count": 459,
   "metadata": {},
   "outputs": [
    {
     "data": {
      "text/plain": [
       "Settle                          1197.300000\n",
       "Volume                        180541.000000\n",
       "Previous Day Open Interest    339508.000000\n",
       "Change                             0.018801\n",
       "Name: 2010-05-06 00:00:00, dtype: float64"
      ]
     },
     "execution_count": 459,
     "metadata": {},
     "output_type": "execute_result"
    }
   ],
   "source": [
    "gold.loc[pd.datetime(2010,5,6)]"
   ]
  },
  {
   "cell_type": "markdown",
   "metadata": {},
   "source": [
    "## e) Andamento Gold nei periodi di recessione USA"
   ]
  },
  {
   "cell_type": "code",
   "execution_count": 462,
   "metadata": {},
   "outputs": [
    {
     "data": {
      "text/html": [
       "<div>\n",
       "<style scoped>\n",
       "    .dataframe tbody tr th:only-of-type {\n",
       "        vertical-align: middle;\n",
       "    }\n",
       "\n",
       "    .dataframe tbody tr th {\n",
       "        vertical-align: top;\n",
       "    }\n",
       "\n",
       "    .dataframe thead th {\n",
       "        text-align: right;\n",
       "    }\n",
       "</style>\n",
       "<table border=\"1\" class=\"dataframe\">\n",
       "  <thead>\n",
       "    <tr style=\"text-align: right;\">\n",
       "      <th></th>\n",
       "      <th>Settle</th>\n",
       "      <th>Volume</th>\n",
       "      <th>Previous Day Open Interest</th>\n",
       "      <th>Change</th>\n",
       "    </tr>\n",
       "    <tr>\n",
       "      <th>Date</th>\n",
       "      <th></th>\n",
       "      <th></th>\n",
       "      <th></th>\n",
       "      <th></th>\n",
       "    </tr>\n",
       "  </thead>\n",
       "  <tbody>\n",
       "    <tr>\n",
       "      <th>1974-12-31</th>\n",
       "      <td>183.9</td>\n",
       "      <td>512.0</td>\n",
       "      <td>237.0</td>\n",
       "      <td>NaN</td>\n",
       "    </tr>\n",
       "    <tr>\n",
       "      <th>1975-01-02</th>\n",
       "      <td>175.1</td>\n",
       "      <td>294.0</td>\n",
       "      <td>209.0</td>\n",
       "      <td>-0.049035</td>\n",
       "    </tr>\n",
       "    <tr>\n",
       "      <th>1975-01-03</th>\n",
       "      <td>174.7</td>\n",
       "      <td>174.0</td>\n",
       "      <td>216.0</td>\n",
       "      <td>-0.002287</td>\n",
       "    </tr>\n",
       "    <tr>\n",
       "      <th>1975-01-06</th>\n",
       "      <td>174.4</td>\n",
       "      <td>197.0</td>\n",
       "      <td>225.0</td>\n",
       "      <td>-0.001719</td>\n",
       "    </tr>\n",
       "    <tr>\n",
       "      <th>1975-01-07</th>\n",
       "      <td>173.4</td>\n",
       "      <td>98.0</td>\n",
       "      <td>240.0</td>\n",
       "      <td>-0.005750</td>\n",
       "    </tr>\n",
       "  </tbody>\n",
       "</table>\n",
       "</div>"
      ],
      "text/plain": [
       "            Settle  Volume  Previous Day Open Interest    Change\n",
       "Date                                                            \n",
       "1974-12-31   183.9   512.0                       237.0       NaN\n",
       "1975-01-02   175.1   294.0                       209.0 -0.049035\n",
       "1975-01-03   174.7   174.0                       216.0 -0.002287\n",
       "1975-01-06   174.4   197.0                       225.0 -0.001719\n",
       "1975-01-07   173.4    98.0                       240.0 -0.005750"
      ]
     },
     "execution_count": 462,
     "metadata": {},
     "output_type": "execute_result"
    }
   ],
   "source": [
    "gold.head()"
   ]
  },
  {
   "cell_type": "markdown",
   "metadata": {},
   "source": [
    "#### I) 1980 Recession"
   ]
  },
  {
   "cell_type": "markdown",
   "metadata": {},
   "source": [
    "The NBER considers a very short recession to have occurred in 1980, followed by a short period of growth and then a deep recession. Unemployment remained relatively elevated in between recessions. The recession began as the Federal Reserve, under Paul Volcker, raised interest rates dramatically to fight the inflation of the 1970s. The early 1980s are sometimes referred to as a \"double-dip\" or \"W-shaped\" recession."
   ]
  },
  {
   "cell_type": "markdown",
   "metadata": {},
   "source": [
    "Peak Unemployment = 7.8%"
   ]
  },
  {
   "cell_type": "markdown",
   "metadata": {},
   "source": [
    "GDP decline (peak to trough) = -2.2%"
   ]
  },
  {
   "cell_type": "markdown",
   "metadata": {},
   "source": [
    "Period Range: Jan 1980 - July 1980"
   ]
  },
  {
   "cell_type": "code",
   "execution_count": 476,
   "metadata": {},
   "outputs": [
    {
     "name": "stdout",
     "output_type": "stream",
     "text": [
      "Gold return: 9.49%\n"
     ]
    }
   ],
   "source": [
    "gold_recession_1980 = round(((gold.loc[pd.datetime(1980,7,31)]['Settle']/gold.loc[pd.datetime(1980,1,2)]['Settle']) -1 ) * 100,2)\n",
    "print('Gold return: '+str(gold_recession_1980)+'%')"
   ]
  },
  {
   "cell_type": "code",
   "execution_count": 478,
   "metadata": {},
   "outputs": [
    {
     "name": "stdout",
     "output_type": "stream",
     "text": [
      "Gold return: 141.41%\n"
     ]
    }
   ],
   "source": [
    "gold_pre_recession_1980 =round(((gold.loc[pd.datetime(1979,12,31)]['Settle']/gold.loc[pd.datetime(1979,1,2)]['Settle']) -1 ) * 100,2)\n",
    "print('Gold return: '+str(gold_pre_recession_1980)+'%')"
   ]
  },
  {
   "cell_type": "code",
   "execution_count": 482,
   "metadata": {},
   "outputs": [
    {
     "name": "stdout",
     "output_type": "stream",
     "text": [
      "Gold return: -30.61%\n"
     ]
    }
   ],
   "source": [
    "gold_post_recession_1980 = round(((gold.loc[pd.datetime(1981,6,30)]['Settle']/gold.loc[pd.datetime(1980,8,1)]['Settle']) -1 ) * 100,2)\n",
    "print('Gold return: '+str(gold_post_recession_1980)+'%')"
   ]
  },
  {
   "cell_type": "markdown",
   "metadata": {},
   "source": [
    "#### II) 1981-1982 recession"
   ]
  },
  {
   "cell_type": "markdown",
   "metadata": {},
   "source": [
    "The Iranian Revolution sharply increased the price of oil around the world in 1979, causing the 1979 energy crisis. This was caused by the new regime in power in Iran, which exported oil at inconsistent intervals and at a lower volume, forcing prices up. Tight monetary policy in the United States to control inflation led to another recession. The changes were made largely because of inflation carried over from the previous decade because of the 1973 oil crisis and the 1979 energy crisis."
   ]
  },
  {
   "cell_type": "markdown",
   "metadata": {},
   "source": [
    "Peak Unemployment = 10.8%\n",
    "\n",
    "GDP decline (peak to trough) = -2.7%\n",
    "\n",
    "Period Range: July 1981 - Nov 1982"
   ]
  },
  {
   "cell_type": "code",
   "execution_count": 483,
   "metadata": {},
   "outputs": [
    {
     "name": "stdout",
     "output_type": "stream",
     "text": [
      "Gold return: 5.63%\n"
     ]
    }
   ],
   "source": [
    "gold_recession_1981_82 = round(((gold.loc[pd.datetime(1982,11,30)]['Settle']/gold.loc[pd.datetime(1981,7,1)]['Settle']) -1 ) * 100,2)\n",
    "print('Gold return: '+str(gold_recession_1981_82)+'%')"
   ]
  },
  {
   "cell_type": "code",
   "execution_count": 484,
   "metadata": {},
   "outputs": [
    {
     "name": "stdout",
     "output_type": "stream",
     "text": [
      "Gold return: -30.61%\n"
     ]
    }
   ],
   "source": [
    "gold_pre_recession_1981_82 = round(((gold.loc[pd.datetime(1981,6,30)]['Settle']/gold.loc[pd.datetime(1980,8,1)]['Settle']) -1 ) * 100,2)\n",
    "print('Gold return: '+str(gold_pre_recession_1981_82)+'%')"
   ]
  },
  {
   "cell_type": "code",
   "execution_count": 508,
   "metadata": {},
   "outputs": [
    {
     "name": "stdout",
     "output_type": "stream",
     "text": [
      "Gold return: -7.85%\n"
     ]
    }
   ],
   "source": [
    "gold_post_recession_1981_82 = round(((gold.loc[pd.datetime(1983,12,1)]['Settle']/gold.loc[pd.datetime(1982,12,1)]['Settle']) -1 ) * 100,2)\n",
    "print('Gold return: '+str(gold_post_recession_1981_82)+'%')"
   ]
  },
  {
   "cell_type": "markdown",
   "metadata": {},
   "source": [
    "#### III) Early 1990s recession"
   ]
  },
  {
   "cell_type": "markdown",
   "metadata": {},
   "source": [
    "After the lengthy peacetime expansion of the 1980s, inflation began to increase and the Federal Reserve responded by raising interest rates from 1986 to 1989. This weakened but did not stop growth, but some combination of the subsequent 1990 oil price shock, the debt accumulation of the 1980s, and growing consumer pessimism combined with the weakened economy to produce a brief recession."
   ]
  },
  {
   "cell_type": "markdown",
   "metadata": {},
   "source": [
    "Peak Unemployment = 7.8%\n",
    "\n",
    "GDP decline (peak to trough) = -1.4%\n",
    "\n",
    "Period Range: July 1990 - Mar 1991"
   ]
  },
  {
   "cell_type": "code",
   "execution_count": 492,
   "metadata": {},
   "outputs": [
    {
     "name": "stdout",
     "output_type": "stream",
     "text": [
      "Gold return: -1.03%\n"
     ]
    }
   ],
   "source": [
    "gold_recession_1990_91 = round(((gold.loc[pd.datetime(1991,3,28)]['Settle']/gold.loc[pd.datetime(1990,7,2)]['Settle']) -1 ) * 100,2)\n",
    "print('Gold return: '+str(gold_recession_1990_91)+'%')"
   ]
  },
  {
   "cell_type": "code",
   "execution_count": 494,
   "metadata": {},
   "outputs": [
    {
     "name": "stdout",
     "output_type": "stream",
     "text": [
      "Gold return: -4.61%\n"
     ]
    }
   ],
   "source": [
    "gold_pre_recession_1990_91 = round(((gold.loc[pd.datetime(1990,6,29)]['Settle']/gold.loc[pd.datetime(1989,6,30)]['Settle']) -1 ) * 100,2)\n",
    "print('Gold return: '+str(gold_pre_recession_1990_91)+'%')"
   ]
  },
  {
   "cell_type": "code",
   "execution_count": 495,
   "metadata": {},
   "outputs": [
    {
     "name": "stdout",
     "output_type": "stream",
     "text": [
      "Gold return: -4.86%\n"
     ]
    }
   ],
   "source": [
    "gold_post_recession_1990_91 = round(((gold.loc[pd.datetime(1992,4,1)]['Settle']/gold.loc[pd.datetime(1991,4,1)]['Settle']) -1 ) * 100,2)\n",
    "print('Gold return: '+str(gold_post_recession_1990_91)+'%')"
   ]
  },
  {
   "cell_type": "markdown",
   "metadata": {},
   "source": [
    "#### IV) Early 2000 recession"
   ]
  },
  {
   "cell_type": "markdown",
   "metadata": {},
   "source": [
    "The 1990s once were the longest period of growth in American history. The collapse of the speculative dot-com bubble, a fall in business outlays and investments, and the September 11th attacks, brought the decade of growth to an end. Despite these major shocks, the recession was brief and shallow."
   ]
  },
  {
   "cell_type": "markdown",
   "metadata": {},
   "source": [
    "Peak Unemployment = 6.3%\n",
    "\n",
    "GDP decline (peak to trough) = -0.3%\n",
    "\n",
    "Period Range: Mar 2001 - Nov 2001"
   ]
  },
  {
   "cell_type": "code",
   "execution_count": 496,
   "metadata": {},
   "outputs": [
    {
     "name": "stdout",
     "output_type": "stream",
     "text": [
      "Gold return: 2.89%\n"
     ]
    }
   ],
   "source": [
    "gold_recession_2001 = round(((gold.loc[pd.datetime(2001,11,30)]['Settle']/gold.loc[pd.datetime(2001,3,1)]['Settle']) -1 ) * 100,2)\n",
    "print('Gold return: '+str(gold_recession_2001)+'%')"
   ]
  },
  {
   "cell_type": "code",
   "execution_count": 498,
   "metadata": {},
   "outputs": [
    {
     "name": "stdout",
     "output_type": "stream",
     "text": [
      "Gold return: -8.97%\n"
     ]
    }
   ],
   "source": [
    "gold_pre_recession_2001 = round(((gold.loc[pd.datetime(2001,2,28)]['Settle']/gold.loc[pd.datetime(2000,2,28)]['Settle']) -1 ) * 100,2)\n",
    "print('Gold return: '+str(gold_pre_recession_2001)+'%')"
   ]
  },
  {
   "cell_type": "code",
   "execution_count": 507,
   "metadata": {},
   "outputs": [
    {
     "name": "stdout",
     "output_type": "stream",
     "text": [
      "Gold return: 15.64%\n"
     ]
    }
   ],
   "source": [
    "gold_post_recession_2001 = round(((gold.loc[pd.datetime(2002,12,3)]['Settle']/gold.loc[pd.datetime(2001,12,3)]['Settle']) -1 ) * 100,2)\n",
    "print('Gold return: '+str(gold_post_recession_2001)+'%')"
   ]
  },
  {
   "cell_type": "markdown",
   "metadata": {},
   "source": [
    "#### V) Great recession"
   ]
  },
  {
   "cell_type": "markdown",
   "metadata": {},
   "source": [
    "The subprime mortgage crisis led to the collapse of the United States housing bubble. Falling housing-related assets contributed to a global financial crisis, even as oil and food prices soared. The crisis led to the failure or collapse of many of the United States' largest financial institutions: Bear Stearns, Fannie Mae, Freddie Mac, Lehman Brothers, and AIG, as well as a crisis in the automobile industry. The government responded with an unprecedented 700 billion bank bailout and $787 billion fiscal stimulus package. The National Bureau of Economic Research declared the end of this recession over a year after the end date. The Dow Jones Industrial Average (Dow) finally reached its lowest point on March 9, 2009."
   ]
  },
  {
   "cell_type": "markdown",
   "metadata": {},
   "source": [
    "Peak Unemployment = 10%\n",
    "\n",
    "GDP decline (peak to trough) = -5.1%\n",
    "\n",
    "Period Range: Dec 2007- June 2009"
   ]
  },
  {
   "cell_type": "code",
   "execution_count": 504,
   "metadata": {},
   "outputs": [
    {
     "name": "stdout",
     "output_type": "stream",
     "text": [
      "Gold return: 16.85%\n"
     ]
    }
   ],
   "source": [
    "gold_recession_2007_09 = round(((gold.loc[pd.datetime(2009,6,30)]['Settle']/gold.loc[pd.datetime(2007,11,1)]['Settle']) -1 ) * 100,2)\n",
    "print('Gold return: '+str(gold_recession_2007_09)+'%')"
   ]
  },
  {
   "cell_type": "code",
   "execution_count": 505,
   "metadata": {},
   "outputs": [
    {
     "name": "stdout",
     "output_type": "stream",
     "text": [
      "Gold return: 31.06%\n"
     ]
    }
   ],
   "source": [
    "gold_pre_recession_2007_09 = round(((gold.loc[pd.datetime(2007,10,31)]['Settle']/gold.loc[pd.datetime(2006,10,31)]['Settle']) -1 ) * 100,2)\n",
    "print('Gold return: '+str(gold_pre_recession_2007_09)+'%')"
   ]
  },
  {
   "cell_type": "code",
   "execution_count": 506,
   "metadata": {},
   "outputs": [
    {
     "name": "stdout",
     "output_type": "stream",
     "text": [
      "Gold return: 28.2%\n"
     ]
    }
   ],
   "source": [
    "gold_post_recession_2007_09 = round(((gold.loc[pd.datetime(2010,7,1)]['Settle']/gold.loc[pd.datetime(2009,7,1)]['Settle']) -1 ) * 100,2)\n",
    "print('Gold return: '+str(gold_post_recession_2007_09)+'%')"
   ]
  },
  {
   "cell_type": "code",
   "execution_count": null,
   "metadata": {},
   "outputs": [],
   "source": []
  }
 ],
 "metadata": {
  "kernelspec": {
   "display_name": "Python 3",
   "language": "python",
   "name": "python3"
  },
  "language_info": {
   "codemirror_mode": {
    "name": "ipython",
    "version": 3
   },
   "file_extension": ".py",
   "mimetype": "text/x-python",
   "name": "python",
   "nbconvert_exporter": "python",
   "pygments_lexer": "ipython3",
   "version": "3.7.6"
  }
 },
 "nbformat": 4,
 "nbformat_minor": 4
}
